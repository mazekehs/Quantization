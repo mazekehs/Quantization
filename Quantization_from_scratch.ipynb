{
  "nbformat": 4,
  "nbformat_minor": 0,
  "metadata": {
    "colab": {
      "provenance": [],
      "authorship_tag": "ABX9TyPFAuKHglRv9tjSi0eCu6Fu",
      "include_colab_link": true
    },
    "kernelspec": {
      "name": "python3",
      "display_name": "Python 3"
    },
    "language_info": {
      "name": "python"
    }
  },
  "cells": [
    {
      "cell_type": "markdown",
      "metadata": {
        "id": "view-in-github",
        "colab_type": "text"
      },
      "source": [
        "<a href=\"https://colab.research.google.com/github/mazekehs/Quantization/blob/main/Quantization_from_scratch.ipynb\" target=\"_parent\"><img src=\"https://colab.research.google.com/assets/colab-badge.svg\" alt=\"Open In Colab\"/></a>"
      ]
    },
    {
      "cell_type": "markdown",
      "source": [
        "# Creatig a simple tensor with random items\n"
      ],
      "metadata": {
        "id": "pVaGpISJzZfQ"
      }
    },
    {
      "cell_type": "code",
      "execution_count": 5,
      "metadata": {
        "id": "r_8L58nazRjV"
      },
      "outputs": [],
      "source": [
        "import numpy as np\n",
        "\n",
        "np.set_printoptions(suppress=True) #Suppress scientific notation\n",
        "\n"
      ]
    },
    {
      "cell_type": "code",
      "source": [
        "#Generate randomly distributed parameters\n",
        "\n",
        "params=np.random.uniform(low=-50,high=150,size=20)\n",
        "print(params)"
      ],
      "metadata": {
        "colab": {
          "base_uri": "https://localhost:8080/"
        },
        "id": "pTLLQdJLz1Ad",
        "outputId": "d1be1cba-fd1f-49a7-e929-ba2cd2041a88"
      },
      "execution_count": 7,
      "outputs": [
        {
          "output_type": "stream",
          "name": "stdout",
          "text": [
            "[-25.17930368 127.05329662 -38.62145207  41.05901368  62.82462623\n",
            "  64.49892952 -27.51743016 114.1785816  126.33020844 -14.02329699\n",
            "  75.05506091  71.50562203 115.00052807 119.65869906 -30.97827628\n",
            " 130.69646697  99.06631667 -36.79862249  14.72667585 141.78488412]\n"
          ]
        }
      ]
    },
    {
      "cell_type": "code",
      "source": [
        "#Making sure important values are at the beginning\n",
        "params[0]"
      ],
      "metadata": {
        "colab": {
          "base_uri": "https://localhost:8080/"
        },
        "id": "gq0ex7aa0gFD",
        "outputId": "527ddb40-d39d-4096-ee7e-99127cc6074b"
      },
      "execution_count": 8,
      "outputs": [
        {
          "output_type": "execute_result",
          "data": {
            "text/plain": [
              "-25.179303679237176"
            ]
          },
          "metadata": {},
          "execution_count": 8
        }
      ]
    },
    {
      "cell_type": "code",
      "source": [
        "params[0]=params.max()+1\n",
        "params[0]"
      ],
      "metadata": {
        "colab": {
          "base_uri": "https://localhost:8080/"
        },
        "id": "lg7jqAZL1PaJ",
        "outputId": "18d6182d-7f08-4b79-e23b-394bef8029a6"
      },
      "execution_count": 10,
      "outputs": [
        {
          "output_type": "execute_result",
          "data": {
            "text/plain": [
              "143.78488412078426"
            ]
          },
          "metadata": {},
          "execution_count": 10
        }
      ]
    },
    {
      "cell_type": "code",
      "source": [
        "params[1]=params.min()-1\n",
        "params[1]"
      ],
      "metadata": {
        "colab": {
          "base_uri": "https://localhost:8080/"
        },
        "id": "owKhAolc1V1R",
        "outputId": "f3a61b9c-9c34-4ff2-ed98-7eb52cc0a846"
      },
      "execution_count": 11,
      "outputs": [
        {
          "output_type": "execute_result",
          "data": {
            "text/plain": [
              "-39.62145207452432"
            ]
          },
          "metadata": {},
          "execution_count": 11
        }
      ]
    },
    {
      "cell_type": "code",
      "source": [
        "params[2]=0"
      ],
      "metadata": {
        "id": "ikvsI5Z41kXQ"
      },
      "execution_count": 12,
      "outputs": []
    },
    {
      "cell_type": "code",
      "source": [
        "params=np.round(params,2)\n",
        "print(params)"
      ],
      "metadata": {
        "colab": {
          "base_uri": "https://localhost:8080/"
        },
        "id": "9bsrbd3B1oyI",
        "outputId": "c3f6cb7a-79b3-4ce4-8245-1e75ca289cdc"
      },
      "execution_count": 14,
      "outputs": [
        {
          "output_type": "stream",
          "name": "stdout",
          "text": [
            "[143.78 -39.62   0.    41.06  62.82  64.5  -27.52 114.18 126.33 -14.02\n",
            "  75.06  71.51 115.   119.66 -30.98 130.7   99.07 -36.8   14.73 141.78]\n"
          ]
        }
      ]
    },
    {
      "cell_type": "markdown",
      "source": [
        "# Define Quantization Method and Quantize"
      ],
      "metadata": {
        "id": "ofZybSfz5-le"
      }
    },
    {
      "cell_type": "code",
      "source": [
        "def clamp(params_q:np.array,lower_bound:int,upper_bound:int)->np.array:\n",
        "  params_q[params_q<lower_bound]=lower_bound\n",
        "  params_q[params_q>upper_bound]=upper_bound\n",
        "  return params_q"
      ],
      "metadata": {
        "id": "uJQSixqK1vEo"
      },
      "execution_count": 15,
      "outputs": []
    },
    {
      "cell_type": "code",
      "source": [
        "def asymmetric_quantization(params:np.array,bits:int)->tuple[np.array,float,int]:\n",
        "  alpha=np.max(params)\n",
        "  beta=np.min(params)\n",
        "  scale=(alpha-beta)/(2**bits-1)\n",
        "  zero=-1*np.round(beta/scale)\n",
        "  lower_bound,upper_bound=0,2**bits-1\n",
        "  #Quantize the parameters\n",
        "  quantized=clamp(np.round(params/scale+zero),lower_bound,upper_bound).astype(np.int32)\n",
        "  return quantized,scale,zero"
      ],
      "metadata": {
        "id": "QJFw9rnB61mQ"
      },
      "execution_count": 16,
      "outputs": []
    },
    {
      "cell_type": "code",
      "source": [
        "def asymmetric_dequantize(params_q: np.array, scale: float, zero: int) -> np.array:\n",
        "    return (params_q - zero) * scale"
      ],
      "metadata": {
        "id": "0q8pAsbv88q8"
      },
      "execution_count": 17,
      "outputs": []
    },
    {
      "cell_type": "code",
      "source": [
        "def symmetric_quantization(params: np.array, bits: int) -> tuple[np.array, float]:\n",
        "    # Calculate the scale\n",
        "    alpha = np.max(np.abs(params))\n",
        "    scale = alpha / (2**(bits-1)-1)\n",
        "    lower_bound = -2**(bits-1)\n",
        "    upper_bound = 2**(bits-1)-1\n",
        "    # Quantize the parameters\n",
        "    quantized = clamp(np.round(params / scale), lower_bound, upper_bound).astype(np.int32)\n",
        "    return quantized, scale"
      ],
      "metadata": {
        "id": "1x1BqV6Q95nL"
      },
      "execution_count": 18,
      "outputs": []
    },
    {
      "cell_type": "code",
      "source": [
        "def symmetric_dequantize(params_q: np.array, scale: float) -> np.array:\n",
        "    return params_q * scale\n"
      ],
      "metadata": {
        "id": "rl9GxRXm99mU"
      },
      "execution_count": 19,
      "outputs": []
    },
    {
      "cell_type": "code",
      "source": [
        "def quantization_error(params: np.array, params_q: np.array):\n",
        "    # calculate the MSE\n",
        "    return np.mean((params - params_q)**2)"
      ],
      "metadata": {
        "id": "rQCbF7mP-BEj"
      },
      "execution_count": 20,
      "outputs": []
    },
    {
      "cell_type": "code",
      "source": [
        "(asymmetric_q, asymmetric_scale, asymmetric_zero) = asymmetric_quantization(params, 8)\n",
        "(symmetric_q, symmetric_scale) = symmetric_quantization(params, 8)"
      ],
      "metadata": {
        "id": "7HkZEvng-GMz"
      },
      "execution_count": 21,
      "outputs": []
    },
    {
      "cell_type": "code",
      "source": [
        "print(f'Original:')\n",
        "print(np.round(params, 2))\n",
        "print('')\n",
        "print(f'Asymmetric scale: {asymmetric_scale}, zero: {asymmetric_zero}')\n",
        "print(asymmetric_q)\n",
        "print('')\n",
        "print(f'Symmetric scale: {symmetric_scale}')\n",
        "print(symmetric_q)"
      ],
      "metadata": {
        "colab": {
          "base_uri": "https://localhost:8080/"
        },
        "id": "G_0DXFK5-P-b",
        "outputId": "c24646fd-9feb-4f0b-eb41-64fea5302739"
      },
      "execution_count": 22,
      "outputs": [
        {
          "output_type": "stream",
          "name": "stdout",
          "text": [
            "Original:\n",
            "[143.78 -39.62   0.    41.06  62.82  64.5  -27.52 114.18 126.33 -14.02\n",
            "  75.06  71.51 115.   119.66 -30.98 130.7   99.07 -36.8   14.73 141.78]\n",
            "\n",
            "Asymmetric scale: 0.7192156862745098, zero: 55.0\n",
            "[255   0  55 112 142 145  17 214 231  36 159 154 215 221  12 237 193   4\n",
            "  75 252]\n",
            "\n",
            "Symmetric scale: 1.1321259842519684\n",
            "[127 -35   0  36  55  57 -24 101 112 -12  66  63 102 106 -27 115  88 -33\n",
            "  13 125]\n"
          ]
        }
      ]
    },
    {
      "cell_type": "code",
      "source": [
        "# Dequantize the parameters back to 32 bits\n",
        "params_deq_asymmetric = asymmetric_dequantize(asymmetric_q, asymmetric_scale, asymmetric_zero)\n",
        "params_deq_symmetric = symmetric_dequantize(symmetric_q, symmetric_scale)\n",
        "\n",
        "print(f'Original:')\n",
        "print(np.round(params, 2))\n",
        "print('')\n",
        "print(f'Dequantize Asymmetric:')\n",
        "print(np.round(params_deq_asymmetric,2))\n",
        "print('')\n",
        "print(f'Dequantize Symmetric:')\n",
        "print(np.round(params_deq_symmetric, 2))"
      ],
      "metadata": {
        "colab": {
          "base_uri": "https://localhost:8080/"
        },
        "id": "4HQ2TPz3-UMj",
        "outputId": "7d752205-1285-4b92-bb63-41c87ebd1905"
      },
      "execution_count": 23,
      "outputs": [
        {
          "output_type": "stream",
          "name": "stdout",
          "text": [
            "Original:\n",
            "[143.78 -39.62   0.    41.06  62.82  64.5  -27.52 114.18 126.33 -14.02\n",
            "  75.06  71.51 115.   119.66 -30.98 130.7   99.07 -36.8   14.73 141.78]\n",
            "\n",
            "Dequantize Asymmetric:\n",
            "[143.84 -39.56   0.    41.    62.57  64.73 -27.33 114.36 126.58 -13.67\n",
            "  74.8   71.2  115.07 119.39 -30.93 130.9   99.25 -36.68  14.38 141.69]\n",
            "\n",
            "Dequantize Symmetric:\n",
            "[143.78 -39.62   0.    40.76  62.27  64.53 -27.17 114.34 126.8  -13.59\n",
            "  74.72  71.32 115.48 120.01 -30.57 130.19  99.63 -37.36  14.72 141.52]\n"
          ]
        }
      ]
    },
    {
      "cell_type": "code",
      "source": [
        "# Calculate the quantization error\n",
        "print(f'{\"Asymmetric error: \":>20}{np.round(quantization_error(params, params_deq_asymmetric), 2)}')\n",
        "print(f'{\"Symmetric error: \":>20}{np.round(quantization_error(params, params_deq_symmetric), 2)}')"
      ],
      "metadata": {
        "colab": {
          "base_uri": "https://localhost:8080/"
        },
        "id": "alTPIpGc-fdS",
        "outputId": "9bf4f9f4-9eef-4624-ac91-9a0e573eebd3"
      },
      "execution_count": 24,
      "outputs": [
        {
          "output_type": "stream",
          "name": "stdout",
          "text": [
            "  Asymmetric error: 0.04\n",
            "   Symmetric error: 0.13\n"
          ]
        }
      ]
    },
    {
      "cell_type": "code",
      "source": [],
      "metadata": {
        "id": "rvL5qliH-toJ"
      },
      "execution_count": null,
      "outputs": []
    }
  ]
}